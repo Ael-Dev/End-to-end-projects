{
 "cells": [
  {
   "cell_type": "markdown",
   "metadata": {},
   "source": [
    "<h1><font color=\"#007ffF\" size=7>Credit Card Fraud Detection</font></h1>\n",
    "<br><br>\n",
    "<div style=\"text-align: right\">\n",
    "<font color=\"#004D7F\" size=4>Ael-Dev</font><br>"
   ]
  },
  {
   "cell_type": "markdown",
   "metadata": {},
   "source": [
    "---\n",
    "\n",
    "<a id=\"section1\"></a>\n",
    "## <font color=\"#004FAF\"> 1. Introducción</font>"
   ]
  },
  {
   "cell_type": "markdown",
   "metadata": {},
   "source": [
    "<font color=\"#004D7F\" size=5> Descripción general de los datos</font>\n",
    "\n",
    "El dataset contiene información de 23 variables explicativas y una variable respuesta binaria, que indica si el cliente incurrió o no en el incumplimiento de pago (Sí = 1, No = 0). Las variables explicativas incluyen datos demográficos, financieros y de comportamiento de pago de los clientes, tales como:"
   ]
  },
  {
   "cell_type": "markdown",
   "metadata": {},
   "source": [
    "<font color=\"#004D7F\" size=5> Objetivo</font>\n",
    "\n",
    "El objetivo de este proyecto es predecir el incumplimiento de pago de los clientes de tarjetas de crédito mediante algoritmos de machine learning."
   ]
  },
  {
   "cell_type": "markdown",
   "metadata": {},
   "source": [
    "---\n",
    "\n",
    "<a id=\"section1\"></a>\n",
    "## <font color=\"#004FAF\"> 2. Carga de datos</font>"
   ]
  },
  {
   "cell_type": "code",
   "execution_count": null,
   "metadata": {},
   "outputs": [],
   "source": [
    "# IMPORT LIBRARIES\n",
    "import pandas as pd\n",
    "import numpy as np\n",
    "import matplotlib.pyplot as plt\n",
    "import seaborn as sns\n",
    "import warnings\n",
    "warnings.filterwarnings(\"ignore\")"
   ]
  }
 ],
 "metadata": {
  "language_info": {
   "name": "python"
  }
 },
 "nbformat": 4,
 "nbformat_minor": 2
}
